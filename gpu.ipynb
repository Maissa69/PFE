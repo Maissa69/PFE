{
 "cells": [
  {
   "cell_type": "code",
   "execution_count": 1,
   "metadata": {},
   "outputs": [
    {
     "ename": "ModuleNotFoundError",
     "evalue": "No module named 'GPUtil'",
     "output_type": "error",
     "traceback": [
      "\u001b[1;31m---------------------------------------------------------------------------\u001b[0m",
      "\u001b[1;31mModuleNotFoundError\u001b[0m                       Traceback (most recent call last)",
      "Cell \u001b[1;32mIn[1], line 1\u001b[0m\n\u001b[1;32m----> 1\u001b[0m \u001b[38;5;28;01mimport\u001b[39;00m \u001b[38;5;21;01mGPUtil\u001b[39;00m\n\u001b[0;32m      3\u001b[0m \u001b[38;5;66;03m# Obtenez la liste des GPU disponibles\u001b[39;00m\n\u001b[0;32m      4\u001b[0m gpus \u001b[38;5;241m=\u001b[39m GPUtil\u001b[38;5;241m.\u001b[39mgetGPUs()\n",
      "\u001b[1;31mModuleNotFoundError\u001b[0m: No module named 'GPUtil'"
     ]
    }
   ],
   "source": [
    "import GPUtil\n",
    "\n",
    "# Obtenez la liste des GPU disponibles\n",
    "gpus = GPUtil.getGPUs()\n",
    "\n",
    "# Affichez les informations pour chaque GPU\n",
    "for gpu in gpus:\n",
    "    print(f\"GPU Name: {gpu.name}\")\n",
    "    print(f\"GPU ID: {gpu.id}\")\n",
    "    print(f\"GPU Driver: {gpu.driver}\")\n",
    "    print(f\"GPU Memory Total: {gpu.memoryTotal} MB\")\n",
    "    print(f\"GPU Memory Free: {gpu.memoryFree} MB\")\n",
    "    print(f\"GPU Memory Used: {gpu.memoryUsed} MB\")\n",
    "    print(f\"GPU GPU Load: {gpu.load * 100}%\")\n",
    "    print(f\"GPU GPU Free Memory: {gpu.memoryFree / gpu.memoryTotal * 100}%\\n\")\n"
   ]
  }
 ],
 "metadata": {
  "kernelspec": {
   "display_name": "Python 3",
   "language": "python",
   "name": "python3"
  },
  "language_info": {
   "name": "python",
   "version": "3.11.4"
  }
 },
 "nbformat": 4,
 "nbformat_minor": 2
}
