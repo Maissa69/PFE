{
 "cells": [
  {
   "cell_type": "markdown",
   "metadata": {},
   "source": [
    "# Playliste etudier:\n",
    "https://www.youtube.com/watch?v=6Qs3wObeWwc&list=PLtdTvjcat54p3P9rkHd8uWgdsKfMWVE_U&index=1\n",
    "\n",
    "# Documentation:\n",
    "https://pillow.readthedocs.io/en/stable/handbook/tutorial.html"
   ]
  },
  {
   "cell_type": "markdown",
   "metadata": {},
   "source": [
    "Pillow est une bibliotheque python largement utliser dans le traitement d'image.\n",
    "connu pour ses avantage au pres des developpeurs, elle fournit des fonctionalite etendues \n",
    "pour ouvrir, manipuler et enregistrer differents formats d'images et aussi en raison de sa mantenance\n",
    "et de son support etendues.\n",
    "\n",
    "Voici quelques raisons courantes pour lesquelles Pillow est utilisé en Python :\n",
    "\n",
    "1. Prise en charge des formats d'images multiples : Pillow prend en charge de nombreux formats d'images courants tels que JPEG, PNG, GIF, BMP, TIFF, etc. Cela facilite le travail avec différents types de fichiers d'images.\n",
    "\n",
    "2. Manipulation d'images : Pillow offre des fonctionnalités puissantes pour effectuer diverses opérations de manipulation d'images, telles que le redimensionnement, la rotation, le rognage, le changement de contraste, la conversion des modes de couleur, etc.\n",
    "\n",
    "3. Traitement des images en lot : Vous pouvez utiliser Pillow pour automatiser le traitement d'un grand nombre d'images en une seule fois, par exemple, pour redimensionner toutes les images dans un dossier.\n",
    "\n",
    "4. Traitement des images provenant du web : Pillow peut être utilisé pour récupérer des images à partir d'URLs et les traiter directement dans votre script Python.\n",
    "\n",
    "5. Interfaçage avec d'autres bibliothèques : Pillow peut être utilisé en conjonction avec d'autres bibliothèques Python pour des tâches spécifiques. Par exemple, il est souvent utilisé avec NumPy pour faciliter la manipulation des données d'image.\n",
    "\n",
    "this is extremely useful when you want to modify a lot of images at once or if you want to automatically run a script on images that you upload to a certain directory "
   ]
  },
  {
   "cell_type": "code",
   "execution_count": 5,
   "metadata": {},
   "outputs": [],
   "source": [
    "from PIL import Image\n",
    "import os "
   ]
  },
  {
   "cell_type": "code",
   "execution_count": 3,
   "metadata": {},
   "outputs": [],
   "source": [
    "img = Image.open(\"IMG_20210810_021028.jpg\")\n",
    "img.show()"
   ]
  },
  {
   "cell_type": "markdown",
   "metadata": {},
   "source": [
    "# Changer l'extention de l'image "
   ]
  },
  {
   "cell_type": "code",
   "execution_count": 4,
   "metadata": {},
   "outputs": [],
   "source": [
    "img.save('coco.png')"
   ]
  },
  {
   "cell_type": "markdown",
   "metadata": {},
   "source": [
    "dans le cas ou on veut rendre tous les photos de ce dossier en png au lieux de jpg \n",
    "\"Traitement des images en lot\""
   ]
  },
  {
   "cell_type": "code",
   "execution_count": 11,
   "metadata": {},
   "outputs": [
    {
     "name": "stdout",
     "output_type": "stream",
     "text": [
      "IMG_20210810_021028\n",
      "IMG_20220624_000501\n",
      "IMG_20221126_204521\n",
      "IMG_20221202_103317\n"
     ]
    }
   ],
   "source": [
    "for f in os.listdir('.'):\n",
    "    if f.endswith('.jpg'):\n",
    "         i = Image.open(f)\n",
    "         photo_name , extentions = os.path.splitext(f)\n",
    "         "
   ]
  },
  {
   "cell_type": "code",
   "execution_count": null,
   "metadata": {},
   "outputs": [],
   "source": [
    "for f in os.listdir('.'):\n",
    "    if f.endswith('.jpg'):\n",
    "        print(f)\n",
    "        f.save('coco.png')"
   ]
  },
  {
   "cell_type": "code",
   "execution_count": null,
   "metadata": {},
   "outputs": [],
   "source": []
  },
  {
   "cell_type": "code",
   "execution_count": null,
   "metadata": {},
   "outputs": [],
   "source": []
  },
  {
   "cell_type": "code",
   "execution_count": null,
   "metadata": {},
   "outputs": [],
   "source": []
  },
  {
   "cell_type": "code",
   "execution_count": null,
   "metadata": {},
   "outputs": [],
   "source": []
  },
  {
   "cell_type": "code",
   "execution_count": null,
   "metadata": {},
   "outputs": [],
   "source": []
  },
  {
   "cell_type": "code",
   "execution_count": null,
   "metadata": {},
   "outputs": [],
   "source": []
  },
  {
   "cell_type": "code",
   "execution_count": null,
   "metadata": {},
   "outputs": [],
   "source": []
  },
  {
   "cell_type": "code",
   "execution_count": null,
   "metadata": {},
   "outputs": [],
   "source": []
  },
  {
   "cell_type": "code",
   "execution_count": null,
   "metadata": {},
   "outputs": [],
   "source": []
  },
  {
   "cell_type": "code",
   "execution_count": null,
   "metadata": {},
   "outputs": [],
   "source": []
  },
  {
   "cell_type": "code",
   "execution_count": null,
   "metadata": {},
   "outputs": [],
   "source": []
  },
  {
   "cell_type": "code",
   "execution_count": null,
   "metadata": {},
   "outputs": [],
   "source": []
  },
  {
   "cell_type": "code",
   "execution_count": null,
   "metadata": {},
   "outputs": [],
   "source": []
  },
  {
   "cell_type": "code",
   "execution_count": null,
   "metadata": {},
   "outputs": [],
   "source": []
  },
  {
   "cell_type": "code",
   "execution_count": null,
   "metadata": {},
   "outputs": [],
   "source": []
  },
  {
   "cell_type": "code",
   "execution_count": null,
   "metadata": {},
   "outputs": [],
   "source": []
  }
 ],
 "metadata": {
  "kernelspec": {
   "display_name": "Python 3",
   "language": "python",
   "name": "python3"
  },
  "language_info": {
   "codemirror_mode": {
    "name": "ipython",
    "version": 3
   },
   "file_extension": ".py",
   "mimetype": "text/x-python",
   "name": "python",
   "nbconvert_exporter": "python",
   "pygments_lexer": "ipython3",
   "version": "3.11.4"
  }
 },
 "nbformat": 4,
 "nbformat_minor": 2
}
